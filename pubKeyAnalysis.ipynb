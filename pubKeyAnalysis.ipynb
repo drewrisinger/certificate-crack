{
 "cells": [
  {
   "cell_type": "code",
   "execution_count": 1,
   "metadata": {},
   "outputs": [],
   "source": [
    "DATA_DIRECTORY = \"C:\\\\Users\\\\drewr\\\\Documents\\\\Graduate Files\\\\Classes\\\\ENEE657\\\\leaf_cert\\\\\"\n",
    "PUB_KEY_DIRECTORY = DATA_DIRECTORY + \"pub\\\\\"\n",
    "FULL_TEXT_DIRECTORY = DATA_DIRECTORY + \"fulltext\\\\\""
   ]
  },
  {
   "cell_type": "code",
   "execution_count": 2,
   "metadata": {},
   "outputs": [],
   "source": [
    "import pem"
   ]
  },
  {
   "cell_type": "code",
   "execution_count": 3,
   "metadata": {},
   "outputs": [
    {
     "name": "stdout",
     "output_type": "stream",
     "text": [
      "C:\\Users\\drewr\\Documents\\Graduate Files\\Classes\\ENEE657\\leaf_cert\\00a00eb16a4690657c0a9236d8ff28e61f_2.pem\n",
      "C:\\Users\\drewr\\Documents\\Graduate Files\\Classes\\ENEE657\\leaf_cert\\pub\\00a00eb16a4690657c0a9236d8ff28e61f_2.pub.pem\n",
      "<class 'list'>\n",
      "[<Certificate(PEM string with SHA-1 digest '01f40d92c468ad0656bc566cf2680b7b7c98f54a')>]\n",
      "<class 'list'>\n",
      "[<Key(PEM string with SHA-1 digest '2dc6e6a25ec0a4894663307ee3a0f8345bd7aee8')>]\n"
     ]
    }
   ],
   "source": [
    "testcertFile = DATA_DIRECTORY + \"00a00eb16a4690657c0a9236d8ff28e61f_2.pem\"\n",
    "pubKeyFile = PUB_KEY_DIRECTORY + \"00a00eb16a4690657c0a9236d8ff28e61f_2.pub.pem\"\n",
    "print(testcertFile)\n",
    "print(pubKeyFile)\n",
    "\n",
    "testcert = pem.parse_file(testcertFile)\n",
    "print(type(testcert))\n",
    "print(testcert)\n",
    "testkey = pem.parse_file(pubKeyFile)\n",
    "print(type(testkey))\n",
    "print(testkey)"
   ]
  },
  {
   "cell_type": "code",
   "execution_count": 4,
   "metadata": {},
   "outputs": [],
   "source": [
    "with open(testcertFile, \"rb\") as f:\n",
    "   certs = pem.parse(f.read())"
   ]
  },
  {
   "cell_type": "code",
   "execution_count": 5,
   "metadata": {},
   "outputs": [
    {
     "name": "stdout",
     "output_type": "stream",
     "text": [
      "[<Certificate(PEM string with SHA-1 digest '01f40d92c468ad0656bc566cf2680b7b7c98f54a')>]\n"
     ]
    },
    {
     "ename": "AttributeError",
     "evalue": "'list' object has no attribute 'as_bytes'",
     "output_type": "error",
     "traceback": [
      "\u001b[1;31m---------------------------------------------------------------------------\u001b[0m",
      "\u001b[1;31mAttributeError\u001b[0m                            Traceback (most recent call last)",
      "\u001b[1;32m<ipython-input-5-24d27eca98a3>\u001b[0m in \u001b[0;36m<module>\u001b[1;34m()\u001b[0m\n\u001b[0;32m      1\u001b[0m \u001b[0mprint\u001b[0m\u001b[1;33m(\u001b[0m\u001b[0mcerts\u001b[0m\u001b[1;33m)\u001b[0m\u001b[1;33m\u001b[0m\u001b[0m\n\u001b[1;32m----> 2\u001b[1;33m \u001b[0mprint\u001b[0m\u001b[1;33m(\u001b[0m\u001b[0mtestkey\u001b[0m\u001b[1;33m.\u001b[0m\u001b[0mas_bytes\u001b[0m\u001b[1;33m(\u001b[0m\u001b[1;33m)\u001b[0m\u001b[1;33m)\u001b[0m\u001b[1;33m\u001b[0m\u001b[0m\n\u001b[0m\u001b[0;32m      3\u001b[0m \u001b[0mtestkey\u001b[0m\u001b[1;33m.\u001b[0m\u001b[0mas_bytes\u001b[0m\u001b[1;33m(\u001b[0m\u001b[1;33m)\u001b[0m\u001b[1;33m\u001b[0m\u001b[0m\n",
      "\u001b[1;31mAttributeError\u001b[0m: 'list' object has no attribute 'as_bytes'"
     ]
    }
   ],
   "source": [
    "print(certs)\n",
    "print(testkey.as_bytes())\n",
    "testkey.as_bytes()"
   ]
  },
  {
   "cell_type": "code",
   "execution_count": 8,
   "metadata": {},
   "outputs": [
    {
     "name": "stdout",
     "output_type": "stream",
     "text": [
      "list\n",
      "list\n"
     ]
    }
   ],
   "source": [
    "print(testcert.__class__.__name__)\n",
    "print(testkey.__class__.__name__)"
   ]
  },
  {
   "cell_type": "code",
   "execution_count": null,
   "metadata": {},
   "outputs": [],
   "source": []
  }
 ],
 "metadata": {
  "kernelspec": {
   "display_name": "Python 3",
   "language": "python",
   "name": "python3"
  },
  "language_info": {
   "codemirror_mode": {
    "name": "ipython",
    "version": 3
   },
   "file_extension": ".py",
   "mimetype": "text/x-python",
   "name": "python",
   "nbconvert_exporter": "python",
   "pygments_lexer": "ipython3",
   "version": "3.6.2"
  }
 },
 "nbformat": 4,
 "nbformat_minor": 2
}
